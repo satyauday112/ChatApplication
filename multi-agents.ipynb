{
  "cells": [
    {
      "cell_type": "markdown",
      "metadata": {
        "id": "view-in-github",
        "colab_type": "text"
      },
      "source": [
        "<a href=\"https://colab.research.google.com/github/satyauday112/ChatApplication/blob/master/multi-agents.ipynb\" target=\"_parent\"><img src=\"https://colab.research.google.com/assets/colab-badge.svg\" alt=\"Open In Colab\"/></a>"
      ]
    },
    {
      "cell_type": "code",
      "source": [
        "# Required Libraries and Tools"
      ],
      "metadata": {
        "id": "3M9gdvYpnXeg"
      },
      "execution_count": null,
      "outputs": []
    },
    {
      "cell_type": "code",
      "execution_count": null,
      "metadata": {
        "colab": {
          "base_uri": "https://localhost:8080/"
        },
        "id": "0Zcnv7zThY8l",
        "outputId": "e76a2560-3540-40e9-fe02-5f606b2a8377",
        "collapsed": true
      },
      "outputs": [
        {
          "output_type": "stream",
          "name": "stdout",
          "text": [
            "Requirement already satisfied: phidata in /usr/local/lib/python3.11/dist-packages (2.7.10)\n",
            "Requirement already satisfied: groq in /usr/local/lib/python3.11/dist-packages (0.19.0)\n",
            "Collecting langchain-groq\n",
            "  Downloading langchain_groq-0.2.5-py3-none-any.whl.metadata (2.6 kB)\n",
            "Requirement already satisfied: langchain in /usr/local/lib/python3.11/dist-packages (0.3.20)\n",
            "Requirement already satisfied: docstring-parser in /usr/local/lib/python3.11/dist-packages (from phidata) (0.16)\n",
            "Requirement already satisfied: gitpython in /usr/local/lib/python3.11/dist-packages (from phidata) (3.1.44)\n",
            "Requirement already satisfied: httpx in /usr/local/lib/python3.11/dist-packages (from phidata) (0.28.1)\n",
            "Requirement already satisfied: pydantic in /usr/local/lib/python3.11/dist-packages (from phidata) (2.10.6)\n",
            "Requirement already satisfied: pydantic-settings in /usr/local/lib/python3.11/dist-packages (from phidata) (2.8.1)\n",
            "Requirement already satisfied: python-dotenv in /usr/local/lib/python3.11/dist-packages (from phidata) (1.0.1)\n",
            "Requirement already satisfied: pyyaml in /usr/local/lib/python3.11/dist-packages (from phidata) (6.0.2)\n",
            "Requirement already satisfied: rich in /usr/local/lib/python3.11/dist-packages (from phidata) (13.9.4)\n",
            "Requirement already satisfied: tomli in /usr/local/lib/python3.11/dist-packages (from phidata) (2.2.1)\n",
            "Requirement already satisfied: typer in /usr/local/lib/python3.11/dist-packages (from phidata) (0.15.2)\n",
            "Requirement already satisfied: typing-extensions in /usr/local/lib/python3.11/dist-packages (from phidata) (4.12.2)\n",
            "Requirement already satisfied: anyio<5,>=3.5.0 in /usr/local/lib/python3.11/dist-packages (from groq) (3.7.1)\n",
            "Requirement already satisfied: distro<2,>=1.7.0 in /usr/local/lib/python3.11/dist-packages (from groq) (1.9.0)\n",
            "Requirement already satisfied: sniffio in /usr/local/lib/python3.11/dist-packages (from groq) (1.3.1)\n",
            "Requirement already satisfied: langchain-core<1.0.0,>=0.3.42 in /usr/local/lib/python3.11/dist-packages (from langchain-groq) (0.3.44)\n",
            "Requirement already satisfied: langchain-text-splitters<1.0.0,>=0.3.6 in /usr/local/lib/python3.11/dist-packages (from langchain) (0.3.6)\n",
            "Requirement already satisfied: langsmith<0.4,>=0.1.17 in /usr/local/lib/python3.11/dist-packages (from langchain) (0.3.13)\n",
            "Requirement already satisfied: SQLAlchemy<3,>=1.4 in /usr/local/lib/python3.11/dist-packages (from langchain) (2.0.39)\n",
            "Requirement already satisfied: requests<3,>=2 in /usr/local/lib/python3.11/dist-packages (from langchain) (2.32.3)\n",
            "Requirement already satisfied: idna>=2.8 in /usr/local/lib/python3.11/dist-packages (from anyio<5,>=3.5.0->groq) (3.10)\n",
            "Requirement already satisfied: certifi in /usr/local/lib/python3.11/dist-packages (from httpx->phidata) (2025.1.31)\n",
            "Requirement already satisfied: httpcore==1.* in /usr/local/lib/python3.11/dist-packages (from httpx->phidata) (1.0.7)\n",
            "Requirement already satisfied: h11<0.15,>=0.13 in /usr/local/lib/python3.11/dist-packages (from httpcore==1.*->httpx->phidata) (0.14.0)\n",
            "Requirement already satisfied: tenacity!=8.4.0,<10.0.0,>=8.1.0 in /usr/local/lib/python3.11/dist-packages (from langchain-core<1.0.0,>=0.3.42->langchain-groq) (9.0.0)\n",
            "Requirement already satisfied: jsonpatch<2.0,>=1.33 in /usr/local/lib/python3.11/dist-packages (from langchain-core<1.0.0,>=0.3.42->langchain-groq) (1.33)\n",
            "Requirement already satisfied: packaging<25,>=23.2 in /usr/local/lib/python3.11/dist-packages (from langchain-core<1.0.0,>=0.3.42->langchain-groq) (24.2)\n",
            "Requirement already satisfied: orjson<4.0.0,>=3.9.14 in /usr/local/lib/python3.11/dist-packages (from langsmith<0.4,>=0.1.17->langchain) (3.10.15)\n",
            "Requirement already satisfied: requests-toolbelt<2.0.0,>=1.0.0 in /usr/local/lib/python3.11/dist-packages (from langsmith<0.4,>=0.1.17->langchain) (1.0.0)\n",
            "Requirement already satisfied: zstandard<0.24.0,>=0.23.0 in /usr/local/lib/python3.11/dist-packages (from langsmith<0.4,>=0.1.17->langchain) (0.23.0)\n",
            "Requirement already satisfied: annotated-types>=0.6.0 in /usr/local/lib/python3.11/dist-packages (from pydantic->phidata) (0.7.0)\n",
            "Requirement already satisfied: pydantic-core==2.27.2 in /usr/local/lib/python3.11/dist-packages (from pydantic->phidata) (2.27.2)\n",
            "Requirement already satisfied: charset-normalizer<4,>=2 in /usr/local/lib/python3.11/dist-packages (from requests<3,>=2->langchain) (3.4.1)\n",
            "Requirement already satisfied: urllib3<3,>=1.21.1 in /usr/local/lib/python3.11/dist-packages (from requests<3,>=2->langchain) (2.3.0)\n",
            "Requirement already satisfied: greenlet!=0.4.17 in /usr/local/lib/python3.11/dist-packages (from SQLAlchemy<3,>=1.4->langchain) (3.1.1)\n",
            "Requirement already satisfied: gitdb<5,>=4.0.1 in /usr/local/lib/python3.11/dist-packages (from gitpython->phidata) (4.0.12)\n",
            "Requirement already satisfied: markdown-it-py>=2.2.0 in /usr/local/lib/python3.11/dist-packages (from rich->phidata) (3.0.0)\n",
            "Requirement already satisfied: pygments<3.0.0,>=2.13.0 in /usr/local/lib/python3.11/dist-packages (from rich->phidata) (2.18.0)\n",
            "Requirement already satisfied: click>=8.0.0 in /usr/local/lib/python3.11/dist-packages (from typer->phidata) (8.1.8)\n",
            "Requirement already satisfied: shellingham>=1.3.0 in /usr/local/lib/python3.11/dist-packages (from typer->phidata) (1.5.4)\n",
            "Requirement already satisfied: smmap<6,>=3.0.1 in /usr/local/lib/python3.11/dist-packages (from gitdb<5,>=4.0.1->gitpython->phidata) (5.0.2)\n",
            "Requirement already satisfied: jsonpointer>=1.9 in /usr/local/lib/python3.11/dist-packages (from jsonpatch<2.0,>=1.33->langchain-core<1.0.0,>=0.3.42->langchain-groq) (3.0.0)\n",
            "Requirement already satisfied: mdurl~=0.1 in /usr/local/lib/python3.11/dist-packages (from markdown-it-py>=2.2.0->rich->phidata) (0.1.2)\n",
            "Downloading langchain_groq-0.2.5-py3-none-any.whl (15 kB)\n",
            "Installing collected packages: langchain-groq\n",
            "Successfully installed langchain-groq-0.2.5\n"
          ]
        }
      ],
      "source": [
        "!pip install phidata groq langchain-groq langchain"
      ]
    },
    {
      "cell_type": "markdown",
      "source": [
        "#Access With Phidata"
      ],
      "metadata": {
        "id": "3j2YCGjuu_4K"
      }
    },
    {
      "cell_type": "code",
      "source": [
        "from phi.model.groq import Groq\n",
        "from phi.agent import Agent"
      ],
      "metadata": {
        "id": "qqQjO65ghoY0"
      },
      "execution_count": null,
      "outputs": []
    },
    {
      "cell_type": "code",
      "source": [
        "!echo GROQ_API_KEY=\"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\" >> .env\n",
        "\n",
        "from dotenv import load_dotenv\n",
        "load_dotenv()"
      ],
      "metadata": {
        "colab": {
          "base_uri": "https://localhost:8080/"
        },
        "id": "ZmQlRIXDou3q",
        "outputId": "e0fc8312-928c-48b0-b95f-bebb8ddb25b1"
      },
      "execution_count": null,
      "outputs": [
        {
          "output_type": "execute_result",
          "data": {
            "text/plain": [
              "True"
            ]
          },
          "metadata": {},
          "execution_count": 28
        }
      ]
    },
    {
      "cell_type": "code",
      "source": [
        "#NOTE: for Gemini use id=\"gemma2-9b-it\"\n",
        "\n",
        "agent = Agent(\n",
        "    model=Groq(id=\"llama-3.3-70b-versatile\"),\n",
        "\n",
        ")\n",
        "\n",
        "# Get the response in a variable\n",
        "# run: RunResponse = agent.run(\"Share a 2 sentence horror story.\")\n",
        "# print(run.content)\n",
        "\n",
        "# Print the response in the terminal\n",
        "agent.print_response(\"Share a 2 sentence horror story.\")"
      ],
      "metadata": {
        "id": "kkDMCPa5kVb6",
        "colab": {
          "base_uri": "https://localhost:8080/"
        },
        "outputId": "b05f0d42-6973-439d-bb8f-8990a002e690"
      },
      "execution_count": null,
      "outputs": [
        {
          "output_type": "stream",
          "name": "stdout",
          "text": [
            "┏━ Message ━━━━━━━━━━━━━━━━━━━━━━━━━━━━━━━━━━━━━━━━━━━━━━━━━━━━━━━━━━━━━━━━━━━━━━━━━━━━━━━━━━━━━━━━┓\n",
            "┃                                                                                                  ┃\n",
            "┃ Share a 2 sentence horror story.                                                                 ┃\n",
            "┃                                                                                                  ┃\n",
            "┗━━━━━━━━━━━━━━━━━━━━━━━━━━━━━━━━━━━━━━━━━━━━━━━━━━━━━━━━━━━━━━━━━━━━━━━━━━━━━━━━━━━━━━━━━━━━━━━━━━┛\n",
            "┏━ Response (1.0s) ━━━━━━━━━━━━━━━━━━━━━━━━━━━━━━━━━━━━━━━━━━━━━━━━━━━━━━━━━━━━━━━━━━━━━━━━━━━━━━━━┓\n",
            "┃                                                                                                  ┃\n",
            "┃ As I lay in bed, I couldn't shake the feeling that something was watching me from the shadows,   ┃\n",
            "┃ its presence growing thicker and more oppressive with each passing moment. It wasn't until I     ┃\n",
            "┃ heard my own voice whisper \"goodnight\" back to me that I realized I wasn't alone.                ┃\n",
            "┃                                                                                                  ┃\n",
            "┗━━━━━━━━━━━━━━━━━━━━━━━━━━━━━━━━━━━━━━━━━━━━━━━━━━━━━━━━━━━━━━━━━━━━━━━━━━━━━━━━━━━━━━━━━━━━━━━━━━┛"
          ]
        }
      ]
    },
    {
      "cell_type": "code",
      "source": [],
      "metadata": {
        "id": "v3BAfPn8u4FV"
      },
      "execution_count": null,
      "outputs": []
    },
    {
      "cell_type": "markdown",
      "source": [
        "#Access With Langchain"
      ],
      "metadata": {
        "id": "swZSSU6Ku4_K"
      }
    },
    {
      "cell_type": "code",
      "source": [
        "# Using Langchain\n",
        "from langchain_core.prompts import ChatPromptTemplate\n",
        "from langchain.prompts import PromptTemplate\n",
        "from langchain_groq import ChatGroq\n",
        "\n",
        "chat = ChatGroq(temperature=0, model_name=\"llama-3.3-70b-versatile\")\n",
        "prompt = PromptTemplate(template='''Hey Hi {llm}''',input_variables=[\"llm\"])"
      ],
      "metadata": {
        "id": "WSJGu-DKsG1q"
      },
      "execution_count": null,
      "outputs": []
    },
    {
      "cell_type": "code",
      "source": [
        "#NOTE: for Gemini use id=\"gemma2-9b-it\"\n",
        "\n",
        "agent = Agent(\n",
        "    model=Groq(id=\"llama-3.3-70b-versatile\"),\n",
        "\n",
        ")\n",
        "\n",
        "# Get the response in a variable\n",
        "# run: RunResponse = agent.run(\"Share a 2 sentence horror story.\")\n",
        "# print(run.content)\n",
        "\n",
        "# Print the response in the terminal\n",
        "agent.print_response(\"Share a 2 sentence horror story.\")"
      ],
      "metadata": {
        "colab": {
          "base_uri": "https://localhost:8080/"
        },
        "outputId": "b05f0d42-6973-439d-bb8f-8990a002e690",
        "id": "U5x5Wju0wphj"
      },
      "execution_count": null,
      "outputs": [
        {
          "output_type": "stream",
          "name": "stdout",
          "text": [
            "┏━ Message ━━━━━━━━━━━━━━━━━━━━━━━━━━━━━━━━━━━━━━━━━━━━━━━━━━━━━━━━━━━━━━━━━━━━━━━━━━━━━━━━━━━━━━━━┓\n",
            "┃                                                                                                  ┃\n",
            "┃ Share a 2 sentence horror story.                                                                 ┃\n",
            "┃                                                                                                  ┃\n",
            "┗━━━━━━━━━━━━━━━━━━━━━━━━━━━━━━━━━━━━━━━━━━━━━━━━━━━━━━━━━━━━━━━━━━━━━━━━━━━━━━━━━━━━━━━━━━━━━━━━━━┛\n",
            "┏━ Response (1.0s) ━━━━━━━━━━━━━━━━━━━━━━━━━━━━━━━━━━━━━━━━━━━━━━━━━━━━━━━━━━━━━━━━━━━━━━━━━━━━━━━━┓\n",
            "┃                                                                                                  ┃\n",
            "┃ As I lay in bed, I couldn't shake the feeling that something was watching me from the shadows,   ┃\n",
            "┃ its presence growing thicker and more oppressive with each passing moment. It wasn't until I     ┃\n",
            "┃ heard my own voice whisper \"goodnight\" back to me that I realized I wasn't alone.                ┃\n",
            "┃                                                                                                  ┃\n",
            "┗━━━━━━━━━━━━━━━━━━━━━━━━━━━━━━━━━━━━━━━━━━━━━━━━━━━━━━━━━━━━━━━━━━━━━━━━━━━━━━━━━━━━━━━━━━━━━━━━━━┛"
          ]
        }
      ]
    },
    {
      "cell_type": "code",
      "source": [],
      "metadata": {
        "id": "HzqVW7WTwphm"
      },
      "execution_count": null,
      "outputs": []
    },
    {
      "cell_type": "markdown",
      "source": [
        "#Access With Langchain"
      ],
      "metadata": {
        "id": "bqdudVWOwpho"
      }
    },
    {
      "cell_type": "code",
      "source": [
        "# Using Langchain\n",
        "from langchain_core.prompts import ChatPromptTemplate\n",
        "from langchain.prompts import PromptTemplate\n",
        "from langchain_groq import ChatGroq\n",
        "\n",
        "chat = ChatGroq(temperature=0, model_name=\"llama-3.3-70b-versatile\")\n",
        "prompt = PromptTemplate(template='''Hey Hi {llm}''',input_variables=[\"llm\"])"
      ],
      "metadata": {
        "id": "q8cZHfWdwphp"
      },
      "execution_count": null,
      "outputs": []
    },
    {
      "cell_type": "code",
      "source": [
        "chat.invoke(prompt.format(llm=\"llama\")).content"
      ],
      "metadata": {
        "colab": {
          "base_uri": "https://localhost:8080/",
          "height": 36
        },
        "id": "E2qnUl_ktu06",
        "outputId": "91ab9033-bd5c-4dea-88dd-1c5a0e721f5f"
      },
      "execution_count": null,
      "outputs": [
        {
          "output_type": "execute_result",
          "data": {
            "text/plain": [
              "\"Hello. It's nice to meet you. Is there something I can help you with or would you like to chat?\""
            ],
            "application/vnd.google.colaboratory.intrinsic+json": {
              "type": "string"
            }
          },
          "metadata": {},
          "execution_count": 42
        }
      ]
    },
    {
      "cell_type": "code",
      "source": [
        "'''Until now we have used Groq to access LLM models\n",
        "  Both phidata and Langchain implemntations are above\n",
        "  For Groq Other Model Info: https://console.groq.com/docs/models '''"
      ],
      "metadata": {
        "id": "HYa3nQXyuN17"
      },
      "execution_count": null,
      "outputs": []
    }
  ],
  "metadata": {
    "colab": {
      "name": "Welcome To Colab",
      "provenance": [],
      "include_colab_link": true
    },
    "kernelspec": {
      "display_name": "Python 3",
      "name": "python3"
    }
  },
  "nbformat": 4,
  "nbformat_minor": 0
}